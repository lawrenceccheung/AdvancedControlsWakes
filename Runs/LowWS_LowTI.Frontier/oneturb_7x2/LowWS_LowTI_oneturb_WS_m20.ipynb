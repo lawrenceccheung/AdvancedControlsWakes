{
 "cells": [
  {
   "cell_type": "markdown",
   "id": "773239ad-e220-4ce2-a45b-7bb08dde0f8b",
   "metadata": {},
   "source": [
    "# Set up wind farm run"
   ]
  },
  {
   "cell_type": "code",
   "execution_count": 1,
   "id": "f0216dc2-38f7-4c62-a457-e6353f2de665",
   "metadata": {
    "execution": {
     "iopub.execute_input": "2024-07-06T01:21:34.247450Z",
     "iopub.status.busy": "2024-07-06T01:21:34.247155Z",
     "iopub.status.idle": "2024-07-06T01:21:35.303995Z",
     "shell.execute_reply": "2024-07-06T01:21:35.303500Z"
    }
   },
   "outputs": [],
   "source": [
    "# Add any possible locations of amr-wind-frontend here\n",
    "amrwindfedirs = ['/projects/wind_uq/lcheung/amrwind-frontend/',\n",
    "                 '/ccs/proj/cfd162/lcheung/amrwind-frontend/']\n",
    "import sys, os, shutil\n",
    "for x in amrwindfedirs: sys.path.insert(1, x)\n",
    "\n",
    "# Load the libraries\n",
    "import amrwind_frontend  as amrwind\n",
    "import matplotlib.pyplot as plt\n",
    "import numpy             as np\n",
    "import math\n",
    "import pandas as pd\n",
    "import postproamrwindsample as ppsample\n",
    "import time\n",
    "import utm\n",
    "\n",
    "# Also ignore warnings\n",
    "import warnings\n",
    "warnings.filterwarnings('ignore')\n",
    "\n",
    "# Make all plots inline \n",
    "%matplotlib inline"
   ]
  },
  {
   "cell_type": "code",
   "execution_count": 2,
   "id": "5477dff1-d01c-4b7a-8773-811adf8ca268",
   "metadata": {
    "execution": {
     "iopub.execute_input": "2024-07-06T01:21:35.306793Z",
     "iopub.status.busy": "2024-07-06T01:21:35.306447Z",
     "iopub.status.idle": "2024-07-06T01:21:35.313634Z",
     "shell.execute_reply": "2024-07-06T01:21:35.312997Z"
    }
   },
   "outputs": [
    {
     "name": "stdout",
     "output_type": "stream",
     "text": [
      "# Define some properties\n",
      "CASETAG='WS_m20'\n",
      "# Location of farm run dir\n",
      "farmrundir       = f'./rundir_{CASETAG}'\n",
      "\n",
      "rotorD = 240           # Rotor diameter\n",
      "WS     = 6.52          # Wind speed, m/s\n",
      "OFoptions=(\"ADparam_TwrAero:True ADparam_TwrShadow:0 FSTparam_CompHydro:0 FSTparam_CompSub:0 \"\n",
      "           \"FSTparam_DT_Out:0.02 \"\n",
      "               \"ADparam_OutList0:RtAeroFxh \"\n",
      "               \"EDparam_YawDOF:False \"\n",
      "               \"EDparam_PtfmSgDOF:False \"\n",
      "               \"EDparam_PtfmSwDOF:False \"\n",
      "               \"EDparam_PtfmHvDOF:False \"\n",
      "               \"EDparam_PtfmRDOF:False \"\n",
      "               \"EDparam_PtfmPDOF:False \"\n",
      "               \"EDparam_PtfmYDOF:False \"\n",
      "           \"EDparam_RotSpeed:6.00 \"\n",
      "           \"EDparam_NacYaw:-20.00 \"\n",
      "               \"AMRparam_Actuator_epsilon:[2;2;2] \"\n",
      "               \"AMRparam_Actuator_epsilon_tower:[2;2;2] \"\n",
      "               \"AMRparam_Actuator_openfast_stop_time:2000.0 \"\n",
      "              )\n",
      "DISCON2p8_options = (\"SDparam_DLL_FileName:/lustre/orion/cfd162/proj-shared/lcheung/ROSCO_2.8/ROSCO/build/libdiscon.so \"\n",
      "                     \"SDparam_DLL_InFile:IEA-15-240-RWT-Monopile_DISCON.IN \"\n",
      "                     )\n",
      "\n",
      "St           = 0.3\n",
      "AWC_NumModes = 2\n",
      "AWC_n        = [1,-1]; AWC_n = '\"{}\"'.format(\" \".join(map(str, AWC_n)));\n",
      "AWC_freq     = [St*WS/rotorD, St*WS/rotorD]; AWC_freq = '\"{}\"'.format(\" \".join(map(str, AWC_freq)));\n",
      "AWC_amp      = [0.0, 0.0]; AWC_amp = '\"{}\"'.format(\" \".join(map(str, AWC_amp)));\n",
      "AWC_clock    = [90, 90]; AWC_clock = '\"{}\"'.format(\" \".join(map(str, AWC_clock)));\n",
      "AWCoptions = (\"SD_param_Ptch_Cntrl:1 \"\n",
      "              \"DISCONparam_AWC_Mode:1 \"\n",
      "              \"DISCONparam_AWC_NumModes:%i DISCONparam_AWC_n:%s DISCONparam_AWC_freq:%s DISCONparam_AWC_amp:%s DISCONparam_AWC_clockangle:%s \"%(AWC_NumModes,\n",
      "                                                                                                                                                AWC_n,\n",
      "                                                                                                                                                AWC_freq,\n",
      "                                                                                                                                                AWC_amp,\n",
      "                                                                                                                                                AWC_clock)\n",
      "             )\n",
      "\n",
      "NAWCTURBS = 0\n",
      "turboptions = OFoptions+DISCON2p8_options #+AWCoptions\n",
      "\n"
     ]
    }
   ],
   "source": [
    "#CONFIGSCRIPT='./baseline.py' \n",
    "CONFIGSCRIPT = os.getenv('CONFIGSCRIPT')\n",
    "\n",
    "if (CONFIGSCRIPT is not None) and os.path.exists(CONFIGSCRIPT):\n",
    "    with open(CONFIGSCRIPT) as f: \n",
    "        print(f.read())\n",
    "    exec((open(CONFIGSCRIPT).read()))\n",
    "else:\n",
    "    # Define some properties\n",
    "    CASETAG='baseline'\n",
    "    rotorD = 240           # Rotor diameter\n",
    "    WS     = 6.52          # Wind speed, m/s\n",
    "    # Location of farm run dir\n",
    "    farmrundir       = f'./rundir_{CASETAG}'\n",
    "    OFoptions=(\"ADparam_TwrAero:True ADparam_TwrShadow:0 FSTparam_CompHydro:0 FSTparam_CompSub:0 \"\n",
    "               \"ADparam_OutList0:RtAeroFxh \"\n",
    "               \"EDparam_YawDOF:False \"\n",
    "               \"EDparam_PtfmSgDOF:False \"\n",
    "               \"EDparam_PtfmSwDOF:False \"\n",
    "               \"EDparam_PtfmHvDOF:False \"\n",
    "               \"EDparam_PtfmRDOF:False \"\n",
    "               \"EDparam_PtfmPDOF:False \"\n",
    "               \"EDparam_PtfmYDOF:False \"\n",
    "               \"AMRparam_Actuator_epsilon:[2;2;2] \"\n",
    "               \"AMRparam_Actuator_epsilon_tower:[2;2;2] \"\n",
    "               \"AMRparam_Actuator_openfast_stop_time:2000.0 \"\n",
    "              )\n",
    "    DISCON2p8_options = (\"SDparam_DLL_FileName:/lustre/orion/cfd162/proj-shared/lcheung/ROSCO_2.8/ROSCO/build/libdiscon.so \"\n",
    "                         \"SDparam_DLL_InFile:IEA-15-240-RWT-Monopile_DISCON.IN \"\n",
    "                        )\n",
    "\n",
    "    St         = 0.3\n",
    "    AWC_freq   = St*WS/rotorD\n",
    "    AWC_amp    = 1.0\n",
    "    AWCoptions = (\"SD_param_Ptch_Cntrl:1 \"\n",
    "                  \"DISCONparam_AWC_Mode:1 \"\n",
    "                  \"DISCONparam_AWC_NumModes:1 DISCONparam_AWC_n:0 DISCONparam_AWC_freq:%f DISCONparam_AWC_amp:%f \"%(AWC_freq, AWC_amp)\n",
    "                 )\n",
    "    NAWCTURBS = 0"
   ]
  },
  {
   "cell_type": "code",
   "execution_count": 3,
   "id": "eef37c6f-e1a9-480b-a20e-90e863a7464b",
   "metadata": {
    "execution": {
     "iopub.execute_input": "2024-07-06T01:21:35.316065Z",
     "iopub.status.busy": "2024-07-06T01:21:35.315689Z",
     "iopub.status.idle": "2024-07-06T01:21:36.180199Z",
     "shell.execute_reply": "2024-07-06T01:21:36.179589Z"
    }
   },
   "outputs": [],
   "source": [
    "# Start the AMR-Wind case\n",
    "case = amrwind.MyApp.init_nogui()"
   ]
  },
  {
   "cell_type": "code",
   "execution_count": 4,
   "id": "7fc3d812-74a8-4d70-9865-59da95629074",
   "metadata": {
    "execution": {
     "iopub.execute_input": "2024-07-06T01:21:36.183005Z",
     "iopub.status.busy": "2024-07-06T01:21:36.182777Z",
     "iopub.status.idle": "2024-07-06T01:21:36.203477Z",
     "shell.execute_reply": "2024-07-06T01:21:36.202991Z"
    }
   },
   "outputs": [
    {
     "name": "stdout",
     "output_type": "stream",
     "text": [
      "CANNOT update: ABLMeanBoussinesq use forcechange=True in setval()\n"
     ]
    },
    {
     "data": {
      "text/plain": [
       "OrderedDict()"
      ]
     },
     "execution_count": 4,
     "metadata": {},
     "output_type": "execute_result"
    }
   ],
   "source": [
    "# Location of precursor run with boundary data\n",
    "precursordir  = '/lustre/orion/cfd162/world-shared/lcheung/ALCC_Frontier_WindFarm/precursors/LowWS_LowTI_7x2'\n",
    "precursorsetup= precursordir+'/OffshorePrecursor_Stable.inp'\n",
    "\n",
    "\n",
    "outputfile       = 'LowWS_LowTI_farmrun1.inp'\n",
    "noturboutputfile = 'LowWS_LowTI_farmrun1_noturbs.inp'\n",
    "\n",
    "verbose          = True\n",
    "cwd              = os.getcwd()\n",
    "\n",
    "# Go to the run directory\n",
    "if os.path.exists(farmrundir):\n",
    "    shutil.rmtree(farmrundir)\n",
    "\n",
    "os.makedirs(farmrundir)\n",
    "os.chdir(farmrundir)\n",
    "\n",
    "# Load the starting point\n",
    "case.loadAMRWindInput(precursorsetup)"
   ]
  },
  {
   "cell_type": "code",
   "execution_count": 5,
   "id": "793130ec-678b-4b9e-baca-4e23c74d3c5f",
   "metadata": {
    "execution": {
     "iopub.execute_input": "2024-07-06T01:21:36.205563Z",
     "iopub.status.busy": "2024-07-06T01:21:36.205278Z",
     "iopub.status.idle": "2024-07-06T01:21:36.207761Z",
     "shell.execute_reply": "2024-07-06T01:21:36.207296Z"
    }
   },
   "outputs": [],
   "source": [
    "#tstart = 26000 #chk65000 16125\n",
    "#tstop  = tstart+900\n",
    "#textra = 500\n",
    "tstop  = 18500"
   ]
  },
  {
   "cell_type": "code",
   "execution_count": 6,
   "id": "5b1d08e1-c3e4-4e69-a798-93d461503300",
   "metadata": {
    "execution": {
     "iopub.execute_input": "2024-07-06T01:21:36.209850Z",
     "iopub.status.busy": "2024-07-06T01:21:36.209448Z",
     "iopub.status.idle": "2024-07-06T01:21:36.212373Z",
     "shell.execute_reply": "2024-07-06T01:21:36.211908Z"
    }
   },
   "outputs": [],
   "source": [
    "# Set the time constants\n",
    "case.setAMRWindInput('time.stop_time', tstop)\n",
    "case.setAMRWindInput('time.fixed_dt', 0.02)\n",
    "case.setAMRWindInput('time.max_step',  -1)"
   ]
  },
  {
   "cell_type": "code",
   "execution_count": 7,
   "id": "5dbb9c10-13e0-418b-8d77-738f08f73f8b",
   "metadata": {
    "execution": {
     "iopub.execute_input": "2024-07-06T01:21:36.214494Z",
     "iopub.status.busy": "2024-07-06T01:21:36.214232Z",
     "iopub.status.idle": "2024-07-06T01:21:36.217044Z",
     "shell.execute_reply": "2024-07-06T01:21:36.216577Z"
    }
   },
   "outputs": [],
   "source": [
    "# Set the restart point\n",
    "chkdir = precursordir+'/chk35000/'\n",
    "case.setAMRWindInput('restart_file', os.path.realpath(chkdir))"
   ]
  },
  {
   "cell_type": "code",
   "execution_count": 8,
   "id": "cf5f2229-e82e-477e-9ef2-408b9236c310",
   "metadata": {
    "execution": {
     "iopub.execute_input": "2024-07-06T01:21:36.219014Z",
     "iopub.status.busy": "2024-07-06T01:21:36.218673Z",
     "iopub.status.idle": "2024-07-06T01:21:36.221692Z",
     "shell.execute_reply": "2024-07-06T01:21:36.221225Z"
    }
   },
   "outputs": [],
   "source": [
    "# Set the boundary input file parameters\n",
    "ablstatfile = precursordir+'/post_processing/abl_statistics35000.nc'\n",
    "#tavg        =  [tstart, tstop]\n",
    "tavg        = [20000, 21000]\n",
    "forcingdict = {'ablstatfile':ablstatfile, 'tavg':tavg}\n",
    "inflowplanes= ['xlo'] #['ylo', 'xhi']\n",
    "bndryfiles  = precursordir+'/bndry_data'"
   ]
  },
  {
   "cell_type": "code",
   "execution_count": 9,
   "id": "dde163a7-74dc-42b0-9c33-69c5b7593156",
   "metadata": {
    "execution": {
     "iopub.execute_input": "2024-07-06T01:21:36.223627Z",
     "iopub.status.busy": "2024-07-06T01:21:36.223366Z",
     "iopub.status.idle": "2024-07-06T01:21:36.253277Z",
     "shell.execute_reply": "2024-07-06T01:21:36.252642Z"
    }
   },
   "outputs": [
    {
     "name": "stdout",
     "output_type": "stream",
     "text": [
      "SET ABL_bndry_io_mode = '1'\n",
      "SET ABL_bndry_file = '/lustre/orion/cfd162/world-shared/lcheung/ALCC_Frontier_WindFarm/precursors/LowWS_LowTI_7x2/bndry_data'\n",
      "SET ABL_bndry_planes = ['xlo']\n",
      "SET is_periodicx = False\n",
      "SET xlo_type = 'mass_inflow'\n",
      "SET xlo_density = 1.2456\n",
      "SET xlo_temperature = 0.0\n",
      "SET xlo_tke = 0.0\n",
      "SET xhi_type = 'pressure_outflow'\n",
      "SET xhi_density = None\n",
      "SET xhi_temperature = None\n",
      "SET xhi_tke = None\n",
      "SET BodyForce = True\n",
      "SET BodyForce_magnitude = [8.953745472521657e-05, 0.0007193915506507243, 0.0]\n",
      "SET ABLForcing = False\n",
      "SET ABLMeanBoussinesq = True\n",
      "SET wall_shear_stress_type = 'local'\n",
      "SET checkpoint_start = 35000\n"
     ]
    }
   ],
   "source": [
    "case.boundaryplane_restart(bndryfiles=bndryfiles, \n",
    "                           forcingdict=forcingdict, \n",
    "                           inflowplanes=inflowplanes, \n",
    "                           checkpointdir=chkdir,\n",
    "                           verbose=True)"
   ]
  },
  {
   "cell_type": "code",
   "execution_count": 10,
   "id": "6d03aca5-bb11-41b8-93a8-02b674503961",
   "metadata": {
    "execution": {
     "iopub.execute_input": "2024-07-06T01:21:36.255465Z",
     "iopub.status.busy": "2024-07-06T01:21:36.255249Z",
     "iopub.status.idle": "2024-07-06T01:21:36.258521Z",
     "shell.execute_reply": "2024-07-06T01:21:36.258039Z"
    }
   },
   "outputs": [],
   "source": [
    "## To specify changes to the OpenFAST model\n",
    "turbinescsv=\"\"\"\n",
    "# CSV file should have columns with\n",
    "# name, x, y, type, yaw, hubheight, options\n",
    "T0,     2280, 1000, IEA15MW_ALM, 270.0, , {OFoptions}\n",
    "#T1,     3720, 1000, IEA15MW_ALM, 270.0, , {OFoptions}\n",
    "\"\"\".format(OFoptions=turboptions)\n",
    "case.setAMRWindInput('turbines_csvtextbox',  turbinescsv)"
   ]
  },
  {
   "cell_type": "code",
   "execution_count": 11,
   "id": "6d91403d-de6d-42ec-9314-46039a9623e6",
   "metadata": {
    "execution": {
     "iopub.execute_input": "2024-07-06T01:21:36.260499Z",
     "iopub.status.busy": "2024-07-06T01:21:36.260231Z",
     "iopub.status.idle": "2024-07-06T01:21:36.498807Z",
     "shell.execute_reply": "2024-07-06T01:21:36.498193Z"
    }
   },
   "outputs": [
    {
     "name": "stdout",
     "output_type": "stream",
     "text": [
      "docopy = True from /autofs/nccs-svm1_proj/cfd162/lcheung/AdvancedControlsWakes/turbinemodels/OpenFAST3p5_IEA15MW to T0_OpenFAST3p5_IEA15MW\n",
      "T0_OpenFAST3p5_IEA15MW/IEA-15-240-RWT-Monopile/IEA-15-240-RWT-Monopile.fst\n",
      "MISMATCH between incflo.density = 1.245600 and OpenFAST density = 1.225000\n",
      "USING incflo value\n",
      "Setting Actuator_epsilon to [2, 2, 2]\n",
      "Setting Actuator_epsilon_tower to [2, 2, 2]\n",
      "Setting Actuator_openfast_stop_time to 2000.0\n",
      "OrderedDict([('CompHydro', 0), ('CompSub', 0), ('DT_Out', 0.02)])\n",
      "OrderedDict([('TwrAero', 'True'), ('TwrShadow', 0), ('OutList0', 'RtAeroFxh')])\n",
      "OrderedDict([('DLL_FileName', '/lustre/orion/cfd162/proj-shared/lcheung/ROSCO_2.8/ROSCO/build/libdiscon.so'), ('DLL_InFile', 'IEA-15-240-RWT-Monopile_DISCON.IN')])\n",
      "OrderedDict([('YawDOF', 'False'), ('PtfmSgDOF', 'False'), ('PtfmSwDOF', 'False'), ('PtfmHvDOF', 'False'), ('PtfmRDOF', 'False'), ('PtfmPDOF', 'False'), ('PtfmYDOF', 'False'), ('RotSpeed', 6.0), ('NacYaw', -20.0)])\n"
     ]
    },
    {
     "name": "stderr",
     "output_type": "stream",
     "text": [
      "    1.2456 AirDens - Air density (kg/m^3) [EDITED]\n",
      "         0 CompHydro - Compute hydrodynamic loads (switch) {0=None 1=HydroDyn} [EDITED]\n",
      "         0 CompSub - Compute sub-structural dynamics (switch) {0=None 1=SubDyn 2=External Platform MCKF} [EDITED]\n",
      "      0.02 DT_Out - Time step for tabular output (s) (or \"default\") [EDITED]\n",
      "         0 TwrShadow - Calculate tower influence on wind based on downstream tower shadow (switch) {0=none 1=Powles model 2=Eames model} [EDITED]\n",
      "      True TwrAero - Calculate tower aerodynamic loads? (flag) [EDITED]\n",
      "Adding 'RtAeroFxh' to OutList\n",
      "/lustre/orion/cfd162/proj-shared/lcheung/ROSCO_2.8/ROSCO/build/libdiscon.so DLL_FileName - Name/location of the dynamic library {.dll [Windows] or .so [Linux]} in the Bladed-DLL format (-) [used only with Bladed Interface] [EDITED]\n",
      "IEA-15-240-RWT-Monopile_DISCON.IN DLL_InFile - Name of input file sent to the DLL (-) [used only with Bladed Interface] [EDITED]\n",
      "     False YawDOF - Yaw DOF (flag) [EDITED]\n",
      "     False PtfmSgDOF - Platform horizontal surge translation DOF (flag) [EDITED]\n",
      "     False PtfmSwDOF - Platform horizontal sway translation DOF (flag) [EDITED]\n",
      "     False PtfmHvDOF - Platform vertical heave translation DOF (flag) [EDITED]\n",
      "     False PtfmRDOF - Platform roll tilt rotation DOF (flag) [EDITED]\n",
      "     False PtfmPDOF - Platform pitch tilt rotation DOF (flag) [EDITED]\n",
      "     False PtfmYDOF - Platform yaw rotation DOF (flag) [EDITED]\n",
      "       6.0 RotSpeed - Initial or fixed rotor speed (rpm) [EDITED]\n",
      "     -20.0 NacYaw - Initial or fixed nacelle-yaw angle (degrees) [EDITED]\n"
     ]
    }
   ],
   "source": [
    "case.setAMRWindInput('turbines_createnewdomain', False)\n",
    "case.setAMRWindInput('turbines_deleteprev', True)\n",
    "\n",
    "case.turbines_createAllTurbines()"
   ]
  },
  {
   "cell_type": "code",
   "execution_count": 12,
   "id": "1e67a376-ddc1-44ab-96e1-354920dad37b",
   "metadata": {
    "execution": {
     "iopub.execute_input": "2024-07-06T01:21:36.500950Z",
     "iopub.status.busy": "2024-07-06T01:21:36.500729Z",
     "iopub.status.idle": "2024-07-06T01:21:36.669429Z",
     "shell.execute_reply": "2024-07-06T01:21:36.668890Z"
    }
   },
   "outputs": [
    {
     "data": {
      "image/png": "[encoded data removed]",
      "text/plain": [
       "<Figure size 750x750 with 1 Axes>"
      ]
     },
     "metadata": {},
     "output_type": "display_data"
    }
   ],
   "source": [
    "# Preview the turbine layout\n",
    "fig, ax = plt.subplots(figsize=(5,5), facecolor='w', dpi=150)\n",
    "case.turbines_previewAllTurbines(ax=ax)"
   ]
  },
  {
   "cell_type": "markdown",
   "id": "10a15f5f-c77f-49f8-b285-d57292ba5ec9",
   "metadata": {},
   "source": [
    "## Make refinement regions"
   ]
  },
  {
   "cell_type": "code",
   "execution_count": 13,
   "id": "6b17d683-b418-478a-8b79-504d1b53ec75",
   "metadata": {
    "execution": {
     "iopub.execute_input": "2024-07-06T01:21:36.671771Z",
     "iopub.status.busy": "2024-07-06T01:21:36.671482Z",
     "iopub.status.idle": "2024-07-06T01:21:36.674645Z",
     "shell.execute_reply": "2024-07-06T01:21:36.674153Z"
    }
   },
   "outputs": [],
   "source": [
    "refinementcsv=\"\"\"\n",
    "# CSV file should have columns with\n",
    "# level, upstream, downstream, lateral, below, above, options\n",
    "level, upstream, downstream, lateral, below, above, options\n",
    "0,      7,        9,         2.5,       0.80,     2,     center:farm\n",
    "#1,     1.0,      1.0,        1.00,   0.80,   1.0,  \n",
    "\"\"\"\n",
    "case.setAMRWindInput('refine_csvtextbox', refinementcsv)\n",
    "case.setAMRWindInput('refine_deleteprev', True)"
   ]
  },
  {
   "cell_type": "code",
   "execution_count": 14,
   "id": "f2d55ef8-a1db-4eb5-bd99-489a808865ab",
   "metadata": {
    "execution": {
     "iopub.execute_input": "2024-07-06T01:21:36.676634Z",
     "iopub.status.busy": "2024-07-06T01:21:36.676373Z",
     "iopub.status.idle": "2024-07-06T01:21:36.694429Z",
     "shell.execute_reply": "2024-07-06T01:21:36.693898Z"
    }
   },
   "outputs": [
    {
     "name": "stdout",
     "output_type": "stream",
     "text": [
      "['Farm_level_0_zone']\n"
     ]
    }
   ],
   "source": [
    "case.refine_createAllZones()\n",
    "# Print out existing list of refinement zones\n",
    "print(case.listboxpopupwindict['listboxtagging'].getitemlist())"
   ]
  },
  {
   "cell_type": "code",
   "execution_count": 15,
   "id": "ba933594-ba95-4ae8-8632-04646a04c9fb",
   "metadata": {
    "execution": {
     "iopub.execute_input": "2024-07-06T01:21:36.696530Z",
     "iopub.status.busy": "2024-07-06T01:21:36.696250Z",
     "iopub.status.idle": "2024-07-06T01:21:36.704215Z",
     "shell.execute_reply": "2024-07-06T01:21:36.703706Z"
    }
   },
   "outputs": [
    {
     "name": "stdout",
     "output_type": "stream",
     "text": [
      "ESTIMATED MESH SIZE\n",
      "   Level       Ncells                      Cell Size\n",
      "       0    103219200                5.0 x 5.0 x 5.0\n",
      "       1    198180864                2.5 x 2.5 x 2.5\n",
      "  TOTAL:    301400064\n"
     ]
    }
   ],
   "source": [
    "# Estimate mesh size\n",
    "case.estimateMeshSize(verbose=False)"
   ]
  },
  {
   "cell_type": "code",
   "execution_count": 16,
   "id": "1b8ded47-0ffb-4a60-9346-55689686a8fc",
   "metadata": {
    "execution": {
     "iopub.execute_input": "2024-07-06T01:21:36.706240Z",
     "iopub.status.busy": "2024-07-06T01:21:36.705981Z",
     "iopub.status.idle": "2024-07-06T01:21:36.877449Z",
     "shell.execute_reply": "2024-07-06T01:21:36.876888Z"
    }
   },
   "outputs": [
    {
     "data": {
      "image/png": "[encoded data removed]",
      "text/plain": [
       "<Figure size 625x625 with 1 Axes>"
      ]
     },
     "metadata": {},
     "output_type": "display_data"
    }
   ],
   "source": [
    "# Plot the domain\n",
    "fig, ax2 = plt.subplots(figsize=(5,5), facecolor='w', dpi=125)\n",
    "case.popup_storteddata['plotdomain']['plot_chooseview']      = 'XY'\n",
    "case.popup_storteddata['plotdomain']['plot_turbines']        = case.listboxpopupwindict['listboxactuator'].getitemlist()\n",
    "case.popup_storteddata['plotdomain']['plot_refineboxes']     = case.listboxpopupwindict['listboxtagging'].getitemlist()\n",
    "case.plotDomain(ax=ax2)"
   ]
  },
  {
   "cell_type": "code",
   "execution_count": 17,
   "id": "26727d75-4617-4225-8d92-e949d786bc0d",
   "metadata": {
    "execution": {
     "iopub.execute_input": "2024-07-06T01:21:36.879706Z",
     "iopub.status.busy": "2024-07-06T01:21:36.879481Z",
     "iopub.status.idle": "2024-07-06T01:21:37.084568Z",
     "shell.execute_reply": "2024-07-06T01:21:37.084006Z"
    }
   },
   "outputs": [
    {
     "data": {
      "image/png": "[encoded data removed]",
      "text/plain": [
       "<Figure size 1000x750 with 1 Axes>"
      ]
     },
     "metadata": {},
     "output_type": "display_data"
    }
   ],
   "source": [
    "# Plot the domain\n",
    "fig, ax = plt.subplots(figsize=(8,6), facecolor='w', dpi=125)\n",
    "case.popup_storteddata['plotdomain']['plot_chooseview']      = 'YZ'\n",
    "case.popup_storteddata['plotdomain']['plot_refineboxes']     = case.listboxpopupwindict['listboxtagging'].getitemlist()\n",
    "case.popup_storteddata['plotdomain']['plot_sampleprobes']    = [] #case.listboxpopupwindict['listboxsampling'].getitemlist()\n",
    "case.popup_storteddata['plotdomain']['plot_turbines']        = case.listboxpopupwindict['listboxactuator'].getitemlist()\n",
    "case.plotDomain(ax=ax)"
   ]
  },
  {
   "cell_type": "markdown",
   "id": "f9983e0e-fff3-4efa-affc-9b7fae99fcb2",
   "metadata": {},
   "source": [
    "## Add sampling planes"
   ]
  },
  {
   "cell_type": "code",
   "execution_count": 18,
   "id": "4866457f-7a02-492c-9150-9ca3b54a781c",
   "metadata": {
    "execution": {
     "iopub.execute_input": "2024-07-06T01:21:37.086809Z",
     "iopub.status.busy": "2024-07-06T01:21:37.086580Z",
     "iopub.status.idle": "2024-07-06T01:21:37.090317Z",
     "shell.execute_reply": "2024-07-06T01:21:37.089819Z"
    }
   },
   "outputs": [
    {
     "name": "stdout",
     "output_type": "stream",
     "text": [
      "[]\n",
      "[]\n"
     ]
    }
   ],
   "source": [
    "# Delete all old sampling planes from precursor\n",
    "case.listboxpopupwindict['listboxsampling'].deleteall()\n",
    "case.listboxpopupwindict['listboxpostprosetup'].deleteall()\n",
    "print(case.listboxpopupwindict['listboxsampling'].getitemlist())\n",
    "print(case.listboxpopupwindict['listboxpostprosetup'].getitemlist())"
   ]
  },
  {
   "cell_type": "code",
   "execution_count": 19,
   "id": "55165896-6022-4a06-90d7-326e229c50f3",
   "metadata": {
    "execution": {
     "iopub.execute_input": "2024-07-06T01:21:37.092425Z",
     "iopub.status.busy": "2024-07-06T01:21:37.092212Z",
     "iopub.status.idle": "2024-07-06T01:21:37.096462Z",
     "shell.execute_reply": "2024-07-06T01:21:37.095980Z"
    }
   },
   "outputs": [],
   "source": [
    "outputoptions=\"outputvars:velocity;tke;temperature outputfreq:25\"\n",
    "\n",
    "turbsamplingcsv = \"\"\"\n",
    "# CSV file should have columns withturbinescsv=\n",
    "# name, type, upstream, downstream, lateral, below, above, n1, n2, options\n",
    "name,                  type,       upstream, downstream, lateral, below, above, n1, n2, options\n",
    "YZdomain,              rotorplane, 5,        13,         2,       0.625, 1.5,     11, 11, usedx:0.025  outputto:YZcoarse_   orientation:nacdir outputvars:velocity noffsets:9  {outputoptions}\n",
    "XZdomain_coarse,       streamwise, 5,        13,         0,       0.625, 3.0,     11, 11, usedx:0.1   outputto:XZdomaincoarse_ orientation:nacdir  center:farm wholedomain:1 {outputoptions}\n",
    "XYdomain_coarse,       hubheight,  5,        13,         4,       0,     1.5,     11, 11, usedx:0.1   outputto:XYdomaincoarse_ orientation:nacdir center:farm wholedomain:1  {outputoptions} noffsets:1\n",
    "XY,                    hubheight,  5,        13,         2,       0.5,   1.5,     11, 11, usedx:0.025  outputto:XY_ orientation:nacdir {outputoptions} noffsets:4\n",
    "XZ,                    streamwise, 5,        13,         0,       0.625, 1.5,     11, 11, usedx:0.025  outputto:XZ_  orientation:nacdir {outputoptions}\n",
    "XZr,                   streamwise, 5,        13,         2,       0.625, 1.5,     11, 11, usedx:0.025  outputto:XZ_  orientation:nacdir {outputoptions} noffsets:4\n",
    "XZl,                   streamwise, 5,        13,        -2,       0.625, 1.5,     11, 11, usedx:0.025  outputto:XZ_  orientation:nacdir {outputoptions} noffsets:4\n",
    "YZ_inflow1,            rotorplane, 5,        -2,         2,       0.625, 1.5,     11, 11, usedx:0.025  outputto:YZinflow_   orientation:nacdir outputvars:velocity noffsets:3  {outputoptions}\n",
    "YZ_inflow2,            rotorplane, 1.5,      -1,         2,       0.625, 1.5,     11, 11, usedx:0.025  outputto:YZinflow_   orientation:nacdir outputvars:velocity noffsets:1  {outputoptions}\n",
    "YZ_inflow3,            rotorplane, 0.75,     -0.25,      2,       0.625, 1.5,     11, 11, usedx:0.025  outputto:YZinflow_   orientation:nacdir outputvars:velocity noffsets:2  {outputoptions}\n",
    "YZ_inflow4,            rotorplane, 0.1,      -0.1,       2,       0.625, 1.5,     11, 11, usedx:0.025  outputto:YZinflow_   orientation:nacdir outputvars:velocity noffsets:1  {outputoptions}\n",
    "YZ_wake1,              rotorplane, -0.1,     0.1,        2,       0.625, 1.5,     11, 11, usedx:0.025  outputto:YZwake_   orientation:nacdir outputvars:velocity noffsets:1  {outputoptions}\n",
    "YZ_wake2,              rotorplane, -0.25,    1.5,        2,       0.625, 1.5,     11, 11, usedx:0.025  outputto:YZwake_   orientation:nacdir outputvars:velocity noffsets:5  {outputoptions}\n",
    "YZ_wake3,              rotorplane, -2,       4,          2,       0.625, 1.5,     11, 11, usedx:0.025  outputto:YZwake_   orientation:nacdir outputvars:velocity noffsets:4  {outputoptions}\n",
    "YZ_wake4,              rotorplane, -5,       13,         2,       0.625, 1.5,     11, 11, usedx:0.025  outputto:YZwake_   orientation:nacdir outputvars:velocity noffsets:8  {outputoptions}\n",
    "\"\"\".format(outputoptions=outputoptions)\n",
    "\n",
    "case.setAMRWindInput('sampling_csvtextbox', turbsamplingcsv)\n",
    "\n",
    "case.setAMRWindInput('sampling_deleteprev', True)"
   ]
  },
  {
   "cell_type": "code",
   "execution_count": 20,
   "id": "c00b7f7c-b3e0-405b-b3b3-3f950463d01e",
   "metadata": {
    "execution": {
     "iopub.execute_input": "2024-07-06T01:21:37.098409Z",
     "iopub.status.busy": "2024-07-06T01:21:37.098154Z",
     "iopub.status.idle": "2024-07-06T01:21:37.214901Z",
     "shell.execute_reply": "2024-07-06T01:21:37.214303Z"
    }
   },
   "outputs": [
    {
     "name": "stdout",
     "output_type": "stream",
     "text": [
      "['T0_YZdomain', 'Farm_XZdomain_coarse', 'Farm_XYdomain_coarse', 'T0_XY', 'T0_XZ', 'T0_XZr', 'T0_XZl', 'T0_YZ_inflow1', 'T0_YZ_inflow2', 'T0_YZ_inflow3', 'T0_YZ_inflow4', 'T0_YZ_wake1', 'T0_YZ_wake2', 'T0_YZ_wake3', 'T0_YZ_wake4']\n"
     ]
    }
   ],
   "source": [
    "case.sampling_createAllProbes(verbose=False)\n",
    "# Print out existing list of turbines\n",
    "print(case.listboxpopupwindict['listboxsampling'].getitemlist())"
   ]
  },
  {
   "cell_type": "code",
   "execution_count": 21,
   "id": "84328e61-e132-4002-83ea-45972bda5a94",
   "metadata": {
    "execution": {
     "iopub.execute_input": "2024-07-06T01:21:37.217066Z",
     "iopub.status.busy": "2024-07-06T01:21:37.216845Z",
     "iopub.status.idle": "2024-07-06T01:21:47.840461Z",
     "shell.execute_reply": "2024-07-06T01:21:47.839902Z"
    }
   },
   "outputs": [
    {
     "data": {
      "image/png": "[encoded data removed]",
      "text/plain": [
       "<Figure size 1000x750 with 1 Axes>"
      ]
     },
     "metadata": {},
     "output_type": "display_data"
    }
   ],
   "source": [
    "# Plot the domain\n",
    "fig, ax = plt.subplots(figsize=(8,6), facecolor='w', dpi=125)\n",
    "case.popup_storteddata['plotdomain']['plot_chooseview']      = 'XY'\n",
    "case.popup_storteddata['plotdomain']['plot_refineboxes']     = [] #case.listboxpopupwindict['listboxtagging'].getitemlist()\n",
    "case.popup_storteddata['plotdomain']['plot_sampleprobes']    = case.listboxpopupwindict['listboxsampling'].getitemlist()\n",
    "case.popup_storteddata['plotdomain']['plot_turbines']        = case.listboxpopupwindict['listboxactuator'].getitemlist()\n",
    "case.popup_storteddata['plotdomain']['plot_sampleprobes_style'] = \"{'markersize':.1, 'marker':'.', 'linestyle':'None'}\"\n",
    "case.plotDomain(ax=ax)"
   ]
  },
  {
   "cell_type": "code",
   "execution_count": 22,
   "id": "cdcb7be1-375b-43f9-a5dd-d2621cd16571",
   "metadata": {
    "execution": {
     "iopub.execute_input": "2024-07-06T01:21:47.842621Z",
     "iopub.status.busy": "2024-07-06T01:21:47.842396Z",
     "iopub.status.idle": "2024-07-06T01:21:47.864868Z",
     "shell.execute_reply": "2024-07-06T01:21:47.864362Z"
    }
   },
   "outputs": [
    {
     "name": "stdout",
     "output_type": "stream",
     "text": [
      "-- Checking inputs --\n",
      "[ PASS] max_level:           max_level = 1 >= 0\n",
      "[ PASS] dt & CFL:            DT and CFL OK\n",
      "[ PASS] restart dir:         Restart directory /lustre/orion/cfd162/world-shared/lcheung/ALCC_Frontier_WindFarm/precursors/LowWS_LowTI_7x2/chk35000 exists\n",
      "[ PASS] boundary plane dir:  Restart directory /lustre/orion/cfd162/world-shared/lcheung/ALCC_Frontier_WindFarm/precursors/LowWS_LowTI_7x2/bndry_data exists\n",
      "[ PASS] Actuator physics:    incflo.physics and ICNS.source_terms OK for Actuators\n",
      "[ PASS] Actuator FST:T0      [T0_OpenFAST3p5_IEA15MW/IEA-15-240-RWT-Monopile/IEA-15-240-RWT-Monopile.fst] exists\n",
      "[ PASS] Actuator FST:T0      Actuator density=1.245600, matches incflo.density=1.245600\n",
      "[ PASS] Actuator FST:T0      CompInflow OK\n",
      "[ PASS] Actuator FST:T0      [T0_OpenFAST3p5_IEA15MW/IEA-15-240-RWT-Monopile/IEA-15-240-RWT-Monopile_AeroDyn15.dat] exists\n",
      "[ PASS] Actuator FST:T0      WakeMod=0 OK\n",
      "[ PASS] Actuator FST:T0      AirDens=1.245600, matches incflo.density=1.245600\n",
      "[ SKIP] Sampling probes:     Not active or no sampling planes\n",
      "\n",
      "Results: \n",
      " 11 PASS\n",
      " 1 SKIP\n",
      " 0 FAIL\n",
      " 0 WARN\n"
     ]
    }
   ],
   "source": [
    "case.validate();"
   ]
  },
  {
   "cell_type": "markdown",
   "id": "c0e1d59e-44ec-4a30-8804-f809fbd75a53",
   "metadata": {},
   "source": [
    "## Print the input file"
   ]
  },
  {
   "cell_type": "code",
   "execution_count": 23,
   "id": "60e218a5-9386-40b8-82d8-8b2f0233c7e1",
   "metadata": {
    "execution": {
     "iopub.execute_input": "2024-07-06T01:21:47.867054Z",
     "iopub.status.busy": "2024-07-06T01:21:47.866674Z",
     "iopub.status.idle": "2024-07-06T01:21:48.224752Z",
     "shell.execute_reply": "2024-07-06T01:21:48.224147Z"
    }
   },
   "outputs": [
    {
     "name": "stdout",
     "output_type": "stream",
     "text": [
      "# --- Simulation time control parameters ---\n",
      "time.stop_time                           = 18500.0             # Max (simulated) time to evolve [s]\n",
      "time.max_step                            = -1                  \n",
      "time.fixed_dt                            = 0.02                # Fixed timestep size (in seconds). If negative, then time.cfl is used\n",
      "time.checkpoint_interval                 = 2500                \n",
      "time.checkpoint_start                    = 35000               \n",
      "incflo.physics                           = ABL Actuator        # List of physics models to include in simulation.\n",
      "incflo.verbose                           = 3                   \n",
      "io.check_file                            = chk                 \n",
      "io.restart_file                          = /lustre/orion/cfd162/world-shared/lcheung/ALCC_Frontier_WindFarm/precursors/LowWS_LowTI_7x2/chk35000\n",
      "incflo.use_godunov                       = true                \n",
      "incflo.godunov_type                      = weno_z              \n",
      "turbulence.model                         = OneEqKsgsM84        \n",
      "TKE.source_terms                         = KsgsM84Src          \n",
      "nodal_proj.mg_rtol                       = 1e-06               \n",
      "nodal_proj.mg_atol                       = 1e-12               \n",
      "mac_proj.mg_rtol                         = 1e-06               \n",
      "mac_proj.mg_atol                         = 1e-12               \n",
      "diffusion.mg_rtol                        = 1e-06               \n",
      "diffusion.mg_atol                        = 1e-12               \n",
      "temperature_diffusion.mg_rtol            = 1e-10               \n",
      "temperature_diffusion.mg_atol            = 1e-13               \n",
      "incflo.gravity                           = 0.0 0.0 -9.81       # Gravitational acceleration vector (x,y,z) [m/s^2]\n",
      "incflo.density                           = 1.2456              # Fluid density [kg/m^3]\n",
      "transport.viscosity                      = 1.771e-05           # Fluid dynamic viscosity [kg/m-s]\n",
      "transport.laminar_prandtl                = 0.7                 # Laminar prandtl number\n",
      "transport.turbulent_prandtl              = 0.3333              # Turbulent prandtl number\n",
      "\n",
      "# --- Geometry and Mesh ---\n",
      "geometry.prob_lo                         = 0.0 0.0 0.0         \n",
      "geometry.prob_hi                         = 6720.0 2000.0 960.0 \n",
      "amr.n_cell                               = 1344 400 192        # Number of cells in x, y, and z directions\n",
      "amr.max_level                            = 1                   \n",
      "geometry.is_periodic                     = 0 1 0               \n",
      "xlo.type                                 = mass_inflow         \n",
      "xlo.density                              = 1.2456              \n",
      "xlo.temperature                          = 0.0                 \n",
      "xlo.tke                                  = 0.0                 \n",
      "xhi.type                                 = pressure_outflow    \n",
      "zlo.type                                 = wall_model          \n",
      "zlo.temperature_type                     = wall_model          \n",
      "zlo.tke_type                             = zero_gradient       \n",
      "zhi.type                                 = slip_wall           \n",
      "zhi.temperature_type                     = fixed_gradient      \n",
      "zhi.temperature                          = 0.003               \n",
      "\n",
      "# --- ABL parameters ---\n",
      "ICNS.source_terms                        = BoussinesqBuoyancy CoriolisForcing ActuatorForcing BodyForce ABLMeanBoussinesq\n",
      "ABL.bndry_io_mode                        = 1                   \n",
      "ABL.bndry_file                           = /lustre/orion/cfd162/world-shared/lcheung/ALCC_Frontier_WindFarm/precursors/LowWS_LowTI_7x2/bndry_data\n",
      "ABL.bndry_planes                         = xlo                 \n",
      "ABL.bndry_output_start_time              = 17500.0             \n",
      "ABL.bndry_var_names                      = velocity temperature tke\n",
      "ABL.bndry_output_format                  = native              \n",
      "incflo.velocity                          = 6.5 0.0 0.0         \n",
      "ABLForcing.abl_forcing_height            = 150.0               \n",
      "ABL.kappa                                = 0.4                 \n",
      "ABL.normal_direction                     = 2                   \n",
      "ABL.surface_roughness_z0                 = 0.001               \n",
      "ABL.reference_temperature                = 284.47              \n",
      "ABL.surface_temp_rate                    = -0.06               \n",
      "ABL.mo_beta_m                            = 16.0                # Monin-Obukhov Beta m parameter\n",
      "ABL.mo_gamma_m                           = 5.0                 # Monin-Obukhov Gamma m parameter\n",
      "ABL.mo_gamma_h                           = 5.0                 # Monin-Obukhov Gamma h parameter\n",
      "ABL.random_gauss_mean                    = 0.0                 \n",
      "ABL.random_gauss_var                     = 1.0                 \n",
      "ABL.wall_shear_stress_type               = local               \n",
      "CoriolisForcing.latitude                 = 50.0                \n",
      "CoriolisForcing.rotational_time_period   = 86164.0900027328    \n",
      "CoriolisForcing.north_vector             = 0.0 1.0 0.0         \n",
      "CoriolisForcing.east_vector              = 1.0 0.0 0.0         \n",
      "BoussinesqBuoyancy.reference_temperature = 284.47              \n",
      "BodyForce.magnitude                      = 8.953745472521657e-05 0.0007193915506507243 0.0\n",
      "ABL.temperature_heights                  = 0       700.0  800.0  960.0\n",
      "ABL.temperature_values                   = 284.47  284.47 292.47 292.95\n",
      "time.plot_interval                       = 2500                \n",
      "io.plot_file                             = plt                 \n",
      "io.KE_int                                = -1                  \n",
      "\n",
      "#---- tagging defs ----\n",
      "tagging.labels                           = Farm_level_0_zone   \n",
      "tagging.Farm_level_0_zone.type           = GeometryRefinement  \n",
      "tagging.Farm_level_0_zone.shapes         = Farm_level_0_zone   \n",
      "tagging.Farm_level_0_zone.level          = 0                   \n",
      "tagging.Farm_level_0_zone.Farm_level_0_zone.type = box                 \n",
      "tagging.Farm_level_0_zone.Farm_level_0_zone.origin = 600.0 400.0 -42.0   \n",
      "tagging.Farm_level_0_zone.Farm_level_0_zone.xaxis = 3840.0 0.0 0.0      \n",
      "tagging.Farm_level_0_zone.Farm_level_0_zone.yaxis = -0.0 1200.0 -0.0    \n",
      "tagging.Farm_level_0_zone.Farm_level_0_zone.zaxis = 0.0 0.0 672.0       \n",
      "\n",
      "#---- actuator defs ----\n",
      "Actuator.labels                          = T0                  \n",
      "Actuator.T0.type                         = TurbineFastLine     \n",
      "Actuator.T0.openfast_input_file          = T0_OpenFAST3p5_IEA15MW/IEA-15-240-RWT-Monopile/IEA-15-240-RWT-Monopile.fst\n",
      "Actuator.T0.base_position                = 2280.0 1000.0 0.0   \n",
      "Actuator.T0.rotor_diameter               = 240.0               \n",
      "Actuator.T0.hub_height                   = 150.0               \n",
      "Actuator.T0.num_points_blade             = 50                  \n",
      "Actuator.T0.num_points_tower             = 12                  \n",
      "Actuator.T0.epsilon                      = 2.0 2.0 2.0         \n",
      "Actuator.T0.epsilon_tower                = 2.0 2.0 2.0         \n",
      "Actuator.T0.openfast_start_time          = 0.0                 \n",
      "Actuator.T0.openfast_stop_time           = 2000.0              \n",
      "Actuator.T0.fllc                         = false               \n",
      "Actuator.T0.nacelle_drag_coeff           = 0.5                 \n",
      "Actuator.T0.nacelle_area                 = 49.5                \n",
      "Actuator.T0.yaw                          = 270.0               \n",
      "Actuator.T0.output_frequency             = 10                  \n",
      "Actuator.T0.density                      = 1.2456              \n",
      "Actuator.T0.num_blades                   = 3                   \n",
      "Actuator.T0.use_tip_correction           = true                \n",
      "Actuator.T0.use_root_correction          = true                \n",
      "\n",
      "#---- postprocessing defs ----\n",
      "incflo.post_processing                   = YZcoarse_ XZdomaincoarse_ XYdomaincoarse_ XY_ XZ_ YZinflow_ YZwake_\n",
      "YZcoarse_.type                           = Sampling            \n",
      "YZcoarse_.output_frequency               = 25                  \n",
      "YZcoarse_.fields                         = velocity temperature tke\n",
      "XZdomaincoarse_.type                     = Sampling            \n",
      "XZdomaincoarse_.output_frequency         = 25                  \n",
      "XZdomaincoarse_.fields                   = velocity temperature tke\n",
      "XYdomaincoarse_.type                     = Sampling            \n",
      "XYdomaincoarse_.output_frequency         = 25                  \n",
      "XYdomaincoarse_.fields                   = velocity temperature tke\n",
      "XY_.type                                 = Sampling            \n",
      "XY_.output_frequency                     = 25                  \n",
      "XY_.fields                               = velocity temperature tke\n",
      "XZ_.type                                 = Sampling            \n",
      "XZ_.output_frequency                     = 25                  \n",
      "XZ_.fields                               = velocity temperature tke\n",
      "YZinflow_.type                           = Sampling            \n",
      "YZinflow_.output_frequency               = 25                  \n",
      "YZinflow_.fields                         = velocity temperature tke\n",
      "YZwake_.type                             = Sampling            \n",
      "YZwake_.output_frequency                 = 25                  \n",
      "YZwake_.fields                           = velocity temperature tke\n",
      "\n",
      "#---- sample defs ----\n",
      "YZcoarse_.labels                         = T0_YZdomain         \n",
      "XZdomaincoarse_.labels                   = Farm_XZdomain_coarse\n",
      "XYdomaincoarse_.labels                   = Farm_XYdomain_coarse\n",
      "XY_.labels                               = T0_XY               \n",
      "XZ_.labels                               = T0_XZ T0_XZr T0_XZl \n",
      "YZinflow_.labels                         = T0_YZ_inflow1 T0_YZ_inflow2 T0_YZ_inflow3 T0_YZ_inflow4\n",
      "YZwake_.labels                           = T0_YZ_wake1 T0_YZ_wake2 T0_YZ_wake3 T0_YZ_wake4\n",
      "YZcoarse_.T0_YZdomain.type               = PlaneSampler        \n",
      "YZcoarse_.T0_YZdomain.num_points         = 161 86              \n",
      "YZcoarse_.T0_YZdomain.origin             = 1080.0 520.0 0.0    \n",
      "YZcoarse_.T0_YZdomain.axis1              = -0.0 960.0 -0.0     \n",
      "YZcoarse_.T0_YZdomain.axis2              = 0.0 0.0 510.0       \n",
      "YZcoarse_.T0_YZdomain.normal             = 1.0 0.0 0.0         \n",
      "YZcoarse_.T0_YZdomain.offsets            = 0.0 480.0 960.0 1440.0 1920.0 2400.0 2880.0 3360.0 3840.0 4320.0\n",
      "XZdomaincoarse_.Farm_XZdomain_coarse.type = PlaneSampler        \n",
      "XZdomaincoarse_.Farm_XZdomain_coarse.num_points = 281 41              \n",
      "XZdomaincoarse_.Farm_XZdomain_coarse.origin = 0.0 1000.0 0.0      \n",
      "XZdomaincoarse_.Farm_XZdomain_coarse.axis1 = 6720.0 0.0 0.0      \n",
      "XZdomaincoarse_.Farm_XZdomain_coarse.axis2 = 0.0 0.0 960.0       \n",
      "XZdomaincoarse_.Farm_XZdomain_coarse.normal = 0.0 0.0 0.0         \n",
      "XYdomaincoarse_.Farm_XYdomain_coarse.type = PlaneSampler        \n",
      "XYdomaincoarse_.Farm_XYdomain_coarse.num_points = 281 84              \n",
      "XYdomaincoarse_.Farm_XYdomain_coarse.origin = 0.0 0.0 150.0       \n",
      "XYdomaincoarse_.Farm_XYdomain_coarse.axis1 = 6720.0 0.0 0.0      \n",
      "XYdomaincoarse_.Farm_XYdomain_coarse.axis2 = 0.0 2000.0 0.0      \n",
      "XYdomaincoarse_.Farm_XYdomain_coarse.normal = 0.0 0.0 1.0         \n",
      "XYdomaincoarse_.Farm_XYdomain_coarse.offsets = 0.0 360.0           \n",
      "XY_.T0_XY.type                           = PlaneSampler        \n",
      "XY_.T0_XY.num_points                     = 721 161             \n",
      "XY_.T0_XY.origin                         = 1080.0 520.0 30.0   \n",
      "XY_.T0_XY.axis1                          = 4320.0 0.0 0.0      \n",
      "XY_.T0_XY.axis2                          = -0.0 960.0 -0.0     \n",
      "XY_.T0_XY.normal                         = 0.0 0.0 1.0         \n",
      "XY_.T0_XY.offsets                        = 0.0 120.0 240.0 360.0 480.0\n",
      "XZ_.T0_XZ.type                           = PlaneSampler        \n",
      "XZ_.T0_XZ.num_points                     = 721 86              \n",
      "XZ_.T0_XZ.origin                         = 1080.0 1000.0 0.0   \n",
      "XZ_.T0_XZ.axis1                          = 4320.0 0.0 0.0      \n",
      "XZ_.T0_XZ.axis2                          = 0.0 0.0 510.0       \n",
      "XZ_.T0_XZ.normal                         = 0.0 0.0 0.0         \n",
      "XZ_.T0_XZr.type                          = PlaneSampler        \n",
      "XZ_.T0_XZr.num_points                    = 721 86              \n",
      "XZ_.T0_XZr.origin                        = 1080.0 1000.0 0.0   \n",
      "XZ_.T0_XZr.axis1                         = 4320.0 0.0 0.0      \n",
      "XZ_.T0_XZr.axis2                         = 0.0 0.0 510.0       \n",
      "XZ_.T0_XZr.normal                        = -0.0 1.0 -0.0       \n",
      "XZ_.T0_XZr.offsets                       = 0.0 120.0 240.0 360.0 480.0\n",
      "XZ_.T0_XZl.type                          = PlaneSampler        \n",
      "XZ_.T0_XZl.num_points                    = 721 86              \n",
      "XZ_.T0_XZl.origin                        = 1080.0 1000.0 0.0   \n",
      "XZ_.T0_XZl.axis1                         = 4320.0 0.0 0.0      \n",
      "XZ_.T0_XZl.axis2                         = 0.0 0.0 510.0       \n",
      "XZ_.T0_XZl.normal                        = -0.0 1.0 -0.0       \n",
      "XZ_.T0_XZl.offsets                       = 0.0 -120.0 -240.0 -360.0 -480.0\n",
      "YZinflow_.T0_YZ_inflow1.type             = PlaneSampler        \n",
      "YZinflow_.T0_YZ_inflow1.num_points       = 161 86              \n",
      "YZinflow_.T0_YZ_inflow1.origin           = 1080.0 520.0 0.0    \n",
      "YZinflow_.T0_YZ_inflow1.axis1            = -0.0 960.0 -0.0     \n",
      "YZinflow_.T0_YZ_inflow1.axis2            = 0.0 0.0 510.0       \n",
      "YZinflow_.T0_YZ_inflow1.normal           = 1.0 0.0 0.0         \n",
      "YZinflow_.T0_YZ_inflow1.offsets          = 0.0 240.0 480.0 720.0\n",
      "YZinflow_.T0_YZ_inflow2.type             = PlaneSampler        \n",
      "YZinflow_.T0_YZ_inflow2.num_points       = 161 86              \n",
      "YZinflow_.T0_YZ_inflow2.origin           = 1920.0 520.0 0.0    \n",
      "YZinflow_.T0_YZ_inflow2.axis1            = -0.0 960.0 -0.0     \n",
      "YZinflow_.T0_YZ_inflow2.axis2            = 0.0 0.0 510.0       \n",
      "YZinflow_.T0_YZ_inflow2.normal           = 1.0 0.0 0.0         \n",
      "YZinflow_.T0_YZ_inflow2.offsets          = 0.0 120.0           \n",
      "YZinflow_.T0_YZ_inflow3.type             = PlaneSampler        \n",
      "YZinflow_.T0_YZ_inflow3.num_points       = 161 86              \n",
      "YZinflow_.T0_YZ_inflow3.origin           = 2100.0 520.0 0.0    \n",
      "YZinflow_.T0_YZ_inflow3.axis1            = -0.0 960.0 -0.0     \n",
      "YZinflow_.T0_YZ_inflow3.axis2            = 0.0 0.0 510.0       \n",
      "YZinflow_.T0_YZ_inflow3.normal           = 1.0 0.0 0.0         \n",
      "YZinflow_.T0_YZ_inflow3.offsets          = 0.0 60.0 120.0      \n",
      "YZinflow_.T0_YZ_inflow4.type             = PlaneSampler        \n",
      "YZinflow_.T0_YZ_inflow4.num_points       = 161 86              \n",
      "YZinflow_.T0_YZ_inflow4.origin           = 2256.0 520.0 0.0    \n",
      "YZinflow_.T0_YZ_inflow4.axis1            = -0.0 960.0 -0.0     \n",
      "YZinflow_.T0_YZ_inflow4.axis2            = 0.0 0.0 510.0       \n",
      "YZinflow_.T0_YZ_inflow4.normal           = 1.0 0.0 0.0         \n",
      "YZinflow_.T0_YZ_inflow4.offsets          = 0.0 0.0             \n",
      "YZwake_.T0_YZ_wake1.type                 = PlaneSampler        \n",
      "YZwake_.T0_YZ_wake1.num_points           = 161 86              \n",
      "YZwake_.T0_YZ_wake1.origin               = 2304.0 520.0 0.0    \n",
      "YZwake_.T0_YZ_wake1.axis1                = -0.0 960.0 -0.0     \n",
      "YZwake_.T0_YZ_wake1.axis2                = 0.0 0.0 510.0       \n",
      "YZwake_.T0_YZ_wake1.normal               = 1.0 0.0 0.0         \n",
      "YZwake_.T0_YZ_wake1.offsets              = 0.0 0.0             \n",
      "YZwake_.T0_YZ_wake2.type                 = PlaneSampler        \n",
      "YZwake_.T0_YZ_wake2.num_points           = 161 86              \n",
      "YZwake_.T0_YZ_wake2.origin               = 2340.0 520.0 0.0    \n",
      "YZwake_.T0_YZ_wake2.axis1                = -0.0 960.0 -0.0     \n",
      "YZwake_.T0_YZ_wake2.axis2                = 0.0 0.0 510.0       \n",
      "YZwake_.T0_YZ_wake2.normal               = 1.0 0.0 0.0         \n",
      "YZwake_.T0_YZ_wake2.offsets              = 0.0 60.0 120.0 180.0 240.0 300.0\n",
      "YZwake_.T0_YZ_wake3.type                 = PlaneSampler        \n",
      "YZwake_.T0_YZ_wake3.num_points           = 161 86              \n",
      "YZwake_.T0_YZ_wake3.origin               = 2760.0 520.0 0.0    \n",
      "YZwake_.T0_YZ_wake3.axis1                = -0.0 960.0 -0.0     \n",
      "YZwake_.T0_YZ_wake3.axis2                = 0.0 0.0 510.0       \n",
      "YZwake_.T0_YZ_wake3.normal               = 1.0 0.0 0.0         \n",
      "YZwake_.T0_YZ_wake3.offsets              = 0.0 120.0 240.0 360.0 480.0\n",
      "YZwake_.T0_YZ_wake4.type                 = PlaneSampler        \n",
      "YZwake_.T0_YZ_wake4.num_points           = 161 86              \n",
      "YZwake_.T0_YZ_wake4.origin               = 3480.0 520.0 0.0    \n",
      "YZwake_.T0_YZ_wake4.axis1                = -0.0 960.0 -0.0     \n",
      "YZwake_.T0_YZ_wake4.axis2                = 0.0 0.0 510.0       \n",
      "YZwake_.T0_YZ_wake4.normal               = 1.0 0.0 0.0         \n",
      "YZwake_.T0_YZ_wake4.offsets              = 0.0 240.0 480.0 720.0 960.0 1200.0 1440.0 1680.0 1920.0\n",
      "\n",
      "#---- extra params ----\n",
      "#== END AMR-WIND INPUT ==\n",
      "\n"
     ]
    }
   ],
   "source": [
    "# Write the input file\n",
    "inputfile=case.writeAMRWindInput(outputfile)\n",
    "if verbose: print(inputfile)"
   ]
  },
  {
   "cell_type": "markdown",
   "id": "c91fbec4-8b7e-4acc-8a9a-e1db6b899fd7",
   "metadata": {},
   "source": [
    "### Create a version without turbines"
   ]
  },
  {
   "cell_type": "code",
   "execution_count": 24,
   "id": "5d6a9205-d761-4b9f-97ce-b4b209a2fad2",
   "metadata": {
    "execution": {
     "iopub.execute_input": "2024-07-06T01:21:48.226969Z",
     "iopub.status.busy": "2024-07-06T01:21:48.226749Z",
     "iopub.status.idle": "2024-07-06T01:21:48.556625Z",
     "shell.execute_reply": "2024-07-06T01:21:48.556106Z"
    }
   },
   "outputs": [],
   "source": [
    "#os.chdir(cwd)\n",
    "case.removeturbines()\n",
    "inputfile=case.writeAMRWindInput(noturboutputfile)\n",
    "#if verbose: print(inputfile)"
   ]
  },
  {
   "cell_type": "code",
   "execution_count": null,
   "id": "d4251655-feaa-4506-ba11-b51015938e7a",
   "metadata": {},
   "outputs": [],
   "source": []
  },
  {
   "cell_type": "code",
   "execution_count": null,
   "id": "bdbec2cf-46ee-48f4-b79a-fdbbbb3b1174",
   "metadata": {},
   "outputs": [],
   "source": []
  }
 ],
 "metadata": {
  "kernelspec": {
   "display_name": "Python 3 (ipykernel)",
   "language": "python",
   "name": "python3"
  },
  "language_info": {
   "codemirror_mode": {
    "name": "ipython",
    "version": 3
   },
   "file_extension": ".py",
   "mimetype": "text/x-python",
   "name": "python",
   "nbconvert_exporter": "python",
   "pygments_lexer": "ipython3",
   "version": "3.9.13"
  }
 },
 "nbformat": 4,
 "nbformat_minor": 5
}
