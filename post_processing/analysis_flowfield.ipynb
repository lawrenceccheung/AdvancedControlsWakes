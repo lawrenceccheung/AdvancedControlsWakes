{
 "cells": [
  {
   "cell_type": "markdown",
   "metadata": {},
   "source": [
    "# AMR-Wind simulation post-processing & analysis \n",
    "# -- Flow Field --\n",
    "\n",
    "## Import necessary functions"
   ]
  },
  {
   "cell_type": "code",
   "execution_count": 1,
   "metadata": {},
   "outputs": [],
   "source": [
    "# Add any possible locations of submodules here\n",
    "amrwindfedirs = ['/projects/wind_uq/lcheung/amrwind-frontend',\n",
    "                 '/ascldap/users/lcheung/wind_uq/amrwind-frontend/',\n",
    "                 '/ccs/proj/cfd162/lcheung/amrwind-frontend/',\n",
    "                '/home/jfrederi/projects/amrwind-frontend'\n",
    "                '/home/jfrederi/projects/moa_python']\n",
    "import sys, os, shutil, scipy, pandas\n",
    "for x in amrwindfedirs: sys.path.insert(1, x)\n",
    "\n",
    "import numpy as np\n",
    "from matplotlib.backends.backend_pdf import PdfPages\n",
    "import matplotlib.pyplot as plt\n",
    "import matplotlib as mpl\n",
    "import netCDF4 as ncdf\n",
    "import pandas as pd\n",
    "import os\n",
    "%matplotlib notebook\n",
    "from scipy.optimize import curve_fit\n",
    "\n",
    "from moa_python.post_plane import Post_plane"
   ]
  },
  {
   "cell_type": "markdown",
   "metadata": {},
   "source": [
    "### Set data folder(s)"
   ]
  },
  {
   "cell_type": "code",
   "execution_count": 2,
   "metadata": {},
   "outputs": [
    {
     "name": "stdout",
     "output_type": "stream",
     "text": [
      "Case 'baseline_snl' contains the following planes: \n",
      "['XZdomaincoarse_68125.nc', 'YZwake_68125.nc', 'XZ_68125.nc', 'XY_68125.nc', 'YZinflow_68125.nc', 'XYdomaincoarse_68125.nc', 'YZcoarse_68125.nc']\n",
      "Case 'ccwhelix_snl' contains the following planes: \n",
      "['XZdomaincoarse_68125.nc', 'YZwake_68125.nc', 'XZ_68125.nc', 'XY_68125.nc', 'YZinflow_68125.nc', 'XYdomaincoarse_68125.nc', 'YZcoarse_68125.nc']\n",
      "Case 'sideside_snl' contains the following planes: \n",
      "['YZwake_123125.nc', 'XZdomaincoarse_68125.nc', 'YZwake_118125.nc', 'YZwake_68125.nc', 'XZ_118125.nc', 'XY_68125.nc', 'YZinflow_68125.nc', 'XZdomaincoarse_83125.nc', 'YZcoarse_68125.nc']\n",
      "Case 'wakesteering_-20deg_snl' contains the following planes: \n",
      "['YZwake_68125.nc', 'XY_68125.nc']\n"
     ]
    }
   ],
   "source": [
    "base_folder = '/projects/ssc/jfrederi/amr-wind-runs/snl_precursors/medWS_lowTI'\n",
    "\n",
    "## Define cases\n",
    "case_folder = ['baseline_snl','ccwhelix_snl','sideside_snl','wakesteering_-20deg_snl']\n",
    "legend_names = ['Baseline','Helix','Pulse','Wake steering']\n",
    "\n",
    "suffix = \"post_processing\"\n",
    "for case in case_folder:\n",
    "    plane_folder = os.path.join(base_folder, case, suffix)\n",
    "    available_planes = [(i) for i in os.listdir(plane_folder) if i.endswith(\".nc\") & ~i.startswith(\"abl\")]\n",
    "    print(f\"Case '{case}' contains the following planes: \\n{available_planes}\")"
   ]
  },
  {
   "cell_type": "markdown",
   "metadata": {},
   "source": [
    "### Import planes of interest"
   ]
  },
  {
   "cell_type": "code",
   "execution_count": null,
   "metadata": {},
   "outputs": [
    {
     "name": "stdout",
     "output_type": "stream",
     "text": [
      "Plane has 5 plane(s) in 2401 time steps from 27250.0 to 28450.0\n",
      "Plane offsets: [ 30. 150. 270. 390. 510.]\n",
      "Plane has 22 plane(s) in 2401 time steps from 27250.0 to 28450.0\n",
      "Plane offsets: [1224. 1224. 1260. 1320. 1380. 1440. 1500. 1560. 1680. 1800. 1920. 2040.\n",
      " 2160. 2400. 2640. 2880. 3120. 3360. 3600. 3840. 4080. 4320.]\n",
      "Plane has 5 plane(s) in 2401 time steps from 27250.0 to 28450.0\n",
      "Plane offsets: [ 30. 150. 270. 390. 510.]\n",
      "Plane has 22 plane(s) in 2401 time steps from 27250.0 to 28450.0\n",
      "Plane offsets: [1224. 1224. 1260. 1320. 1380. 1440. 1500. 1560. 1680. 1800. 1920. 2040.\n",
      " 2160. 2400. 2640. 2880. 3120. 3360. 3600. 3840. 4080. 4320.]\n",
      "Plane has 5 plane(s) in 801 time steps from 27250.0 to 27650.0\n",
      "Plane offsets: [ 30. 150. 270. 390. 510.]\n",
      "Plane has 22 plane(s) in 801 time steps from 27250.0 to 27650.0\n",
      "Plane offsets: [1224. 1224. 1260. 1320. 1380. 1440. 1500. 1560. 1680. 1800. 1920. 2040.\n",
      " 2160. 2400. 2640. 2880. 3120. 3360. 3600. 3840. 4080. 4320.]\n"
     ]
    }
   ],
   "source": [
    "## Choose planes to load\n",
    "hor_plane_file = 'XY_68125.nc'\n",
    "ver_plane_file = 'YZwake_68125.nc'\n",
    "\n",
    "## Settings\n",
    "sampling_freq = 1\n",
    "Ncases = len(case_folder)\n",
    "hub_height = 150\n",
    "D = 240\n",
    "turbine_hor_location = [1200, 480, 150]\n",
    "\n",
    "## Load planes\n",
    "hor_plane = []\n",
    "ver_plane = []\n",
    "for n in range(Ncases):\n",
    "    plane_folder = os.path.join(base_folder, case_folder[n], suffix)\n",
    "    hor_plane.append(Post_plane(os.path.join(plane_folder, hor_plane_file), freq = sampling_freq))\n",
    "    hor_plane[n].set_origin_simple(x=turbine_hor_location)\n",
    "    hor_plane[n].scale_to_rot_diam(D)\n",
    "    hor_plane[n].set_turbine_whereabouts(D = 1, turb_loc = [0, 0, 0])\n",
    "    \n",
    "    ver_plane.append(Post_plane(os.path.join(plane_folder, ver_plane_file), freq = sampling_freq))\n",
    "    ver_plane[n].set_origin_simple([480, 0, 0], frame='absolute')\n",
    "    ver_plane[n].scale_to_rot_diam(D)\n",
    "    ver_plane[n].set_turbine_whereabouts(D = 1, turb_loc = [0, hub_height/D, 0])"
   ]
  },
  {
   "cell_type": "markdown",
   "metadata": {},
   "source": [
    "### Plot horizontal plane (average and instantaneous)"
   ]
  },
  {
   "cell_type": "code",
   "execution_count": null,
   "metadata": {
    "scrolled": false
   },
   "outputs": [],
   "source": [
    "## Set parameters\n",
    "hub_height = 0\n",
    "St = 0.3\n",
    "U = 9.05\n",
    "helix_period = D/(St*U)\n",
    "timespan = 8*helix_period\n",
    "\n",
    "## Set figure\n",
    "fig, axes = plt.subplots(Ncases,1,figsize = (9.5,4*Ncases), tight_layout=True)\n",
    "if not isinstance(axes, (list, np.ndarray)): axes = [axes]\n",
    "plt.set_cmap('coolwarm')\n",
    "\n",
    "## Plot subfigures for all cases\n",
    "for n in range(Ncases):\n",
    "    tend = hor_plane[n].time[-1]\n",
    "    hor_plane[n].plot_mean_plane(hub_height, ax = axes[n], timespan = [tend-timespan,tend])\n",
    "    axes[n].set_title(case_folder[n])\n",
    "    \n",
    "    # Remove colorbar from subplots\n",
    "    im = [obj for obj in axes[n].get_children() if isinstance(obj, mpl.collections.Collection)][0]\n",
    "    if hasattr(im,'colorbar') and im.colorbar is not None:\n",
    "        im.colorbar.remove()\n",
    "fig.colorbar(im,ax = axes[n],location='bottom')"
   ]
  },
  {
   "cell_type": "code",
   "execution_count": null,
   "metadata": {},
   "outputs": [],
   "source": [
    "## Select time instance to plot\n",
    "time_instance = 28200\n",
    "\n",
    "## Set figure\n",
    "fig, axes = plt.subplots(Ncases,1,figsize = (9.5,4*Ncases), tight_layout=True)\n",
    "if not isinstance(axes, (list, np.ndarray)): axes = [axes]\n",
    "plt.set_cmap('coolwarm')\n",
    "\n",
    "## Plot subfigures for all cases\n",
    "for n in range(Ncases):\n",
    "    tend = hor_plane[n].time[-1]\n",
    "    hor_plane[n].plot_plane(hub_height, ax = axes[n], time = time_instance)\n",
    "    axes[n].set_title(case_folder[n])\n",
    "    \n",
    "    # Remove colorbar from subplots\n",
    "    im = [obj for obj in axes[n].get_children() if isinstance(obj, mpl.collections.Collection)][0]\n",
    "    if hasattr(im,'colorbar') and im.colorbar is not None:\n",
    "        im.colorbar.remove()\n",
    "fig.colorbar(im,ax = axes[n],location='bottom')"
   ]
  },
  {
   "cell_type": "markdown",
   "metadata": {},
   "source": [
    "### Plot average vertical planes"
   ]
  },
  {
   "cell_type": "code",
   "execution_count": null,
   "metadata": {},
   "outputs": [],
   "source": [
    "## Select planes to plot\n",
    "downstream_distances = [1, 3, 5, 7]\n",
    "planes_to_plot = np.array(downstream_distances)\n",
    "Nplanes = len(planes_to_plot)\n",
    "\n",
    "# Set up figure\n",
    "fig, axes = plt.subplots(Nplanes, Ncases, figsize = (8, 4*Ncases), layout='compressed')\n",
    "if not isinstance(axes[0],(list,np.ndarray)): axes = [axes]\n",
    "    \n",
    "## Plot planes for all cases\n",
    "for k in range(Nplanes):\n",
    "    for n in range(Ncases):\n",
    "        tend = ver_plane[n].time[-1]\n",
    "        ver_plane[n].plot_mean_plane(planes_to_plot[k], timespan = [tend-timespan, tend], \\\n",
    "                                     ax = axes[k][n], verbose=False)\n",
    "        ver_plane[n].plot_turbine(ax=axes[k][n], plane='yz')\n",
    "        axes[k][n].set_title(f'{legend_names[n]}, {downstream_distances[k]}D')\n",
    "        im = [obj for obj in axes[k][n].get_children() if isinstance(obj, mpl.collections.Collection)][0]\n",
    "        if hasattr(im,'colorbar') and im.colorbar is not None:\n",
    "            im.colorbar.remove()\n",
    "        if k > 0: axes[k][n].set_ylabel('')\n",
    "\n",
    "# fig.subplots_adjust(bottom=0.9)\n",
    "# cbar_ax = fig.add_axes([0.9, 0.2, 0.03, 0.6])\n",
    "# fig.colorbar(im, cax=cbar_ax, shrink=0.5)\n",
    "# fig.savefig('ws_downstream.png',dpi=400)\n"
   ]
  },
  {
   "cell_type": "markdown",
   "metadata": {},
   "source": [
    "## Velocity in wake"
   ]
  },
  {
   "cell_type": "code",
   "execution_count": null,
   "metadata": {
    "scrolled": false
   },
   "outputs": [],
   "source": [
    "## Set location\n",
    "fig_wake, ax_wake = plt.subplots(1, 1, figsize=(10,5), tight_layout=True)\n",
    "legend_string = []\n",
    "\n",
    "## Get velocities in wake and plot\n",
    "wake_hor_vel = []\n",
    "wake_cs_vel = np.empty((Ncases, len(ver_plane[0].z)))\n",
    "for n in range(Ncases):\n",
    "    tend = hor_plane[n].time[-1]\n",
    "    color = 'C'+str(n)\n",
    "    hor_plane_w = hor_plane[n].plot_vel_in_wake(timespan = [tend-timespan,tend], ax = ax_wake, color = color, verbose = False)\n",
    "    ver_plane_w = ver_plane[n].plot_vel_in_wake(z = ver_plane[n].z, timespan = [tend-timespan,tend], axis='z', ax = ax_wake, \\\n",
    "                                linestyle = 'o', color=color, verbose = False)\n",
    "    wake_hor_vel = np.append(wake_hor_vel, np.mean(hor_plane_w))\n",
    "    legend_string += [f'{legend_names[n]}, streamwise @hub height',f'{legend_names[n]}, cross section']\n",
    "\n",
    "ax_wake.legend(legend_string,loc='lower right')\n",
    "ax_wake.set_title('Velocity in the wake');\n"
   ]
  },
  {
   "cell_type": "markdown",
   "metadata": {},
   "source": [
    "## Power of virtual turbines"
   ]
  },
  {
   "cell_type": "code",
   "execution_count": null,
   "metadata": {},
   "outputs": [],
   "source": [
    "## Get T1 data\n",
    "\n",
    "vars_and_labels = {'Time':('Time','s'),\n",
    "            'GenPwr':('Gen. Power','W')}\n",
    "vars = list(vars_and_labels.keys())\n",
    "turbines = ['T0']\n",
    "windcases = [9.05,]\n",
    "\n",
    "openfastData = {}\n",
    "counter = 0\n",
    "for caseiter, case in enumerate(case_folder):\n",
    "    openfastData[case] = {}\n",
    "    for mps in windcases:\n",
    "        openfastData[case][str(mps)] = {}\n",
    "        dfs = []\n",
    "        for turbiter, turbine in enumerate(turbines):\n",
    "            for variter , var in enumerate(vars):\n",
    "                file = base_folder + '/' + case_folder[caseiter] + '/OpenFAST/' + turbine + '_' + var + '.dat'\n",
    "                print('Reading from: ', file)\n",
    "                df = pd.read_csv(file,sep=' ',skiprows=(1,))\n",
    "\n",
    "                df.drop_duplicates(subset='Time', inplace=True)\n",
    "                if variter == 0:\n",
    "                    dfs = df\n",
    "                if variter > 0:\n",
    "                    dfs = pd.merge(dfs, df, on=\"Time\")\n",
    "            openfastData[case][str(mps)][str(turbine)] = dfs"
   ]
  },
  {
   "cell_type": "code",
   "execution_count": null,
   "metadata": {},
   "outputs": [],
   "source": [
    "pwrT1 = []\n",
    "for n, case in enumerate(case_folder):\n",
    "    idx0 = np.where(openfastData[case][str(mps)][str(turbine)]['Time'] \n",
    "                    > openfastData[case][str(mps)][str(turbine)]['Time'].iloc[-1]-timespan)[0][0]\n",
    "    pwrT1.append(np.mean(openfastData[case][str(mps)][str(turbine)]['GenPwr'][idx0:]))"
   ]
  },
  {
   "cell_type": "code",
   "execution_count": null,
   "metadata": {},
   "outputs": [],
   "source": [
    "fig, ax = plt.subplots(Ncases-1, 1, figsize=(9.5, 10), tight_layout=True)\n",
    "levels = [0.9, 1, 1.05, 1.1, 1.15]\n",
    "angle = [0, 0, -20]\n",
    "\n",
    "for n in range(Ncases):\n",
    "    tend = hor_plane[n].time[-1]\n",
    "    hor_plane[n].ravfield = hor_plane[n].get_virtual_turbine_power(output = 'power', power_T1 = pwrT1[n]*1e3, \n",
    "                                                        cp = 0.44, timespan = [tend-timespan,tend])\n",
    "    if n > 0:\n",
    "        hor_plane[n].plot_virtual_turbine_field(hor_plane[n].ravfield, baseline_field=hor_plane[0].ravfield, filter_order = 3, angle=angle[n-1],\n",
    "                                                vmin = 0.85, vmax = 1.2, turb_loc=hor_plane[n].turb_loc, ax = ax[n-1], contour_levels = levels)\n",
    "        ax[n-1].set_title(f\"{legend_names[n]}: Estimated power gain for downstream turbine locations\")\n",
    "        \n",
    "## Add colorbar to bottom\n",
    "im = [obj for obj in ax[-1].get_children() if isinstance(obj, mpl.collections.Collection)][0]\n",
    "fig.colorbar(im,ax = ax[-1],location='bottom', shrink=.8)\n",
    "\n",
    "fig.savefig('est_power_2T_WF.png', dpi = 720)"
   ]
  },
  {
   "cell_type": "code",
   "execution_count": null,
   "metadata": {
    "scrolled": false
   },
   "outputs": [],
   "source": [
    "fig, ax = plt.subplots(Ncases-1, 1, figsize=(9.5, 10))\n",
    "levels = [1, 1.02, 1.04, 1.06]\n",
    "\n",
    "for n in range(Ncases):\n",
    "    ver_plane[n].ravfield = ver_plane[n].get_virtual_turbine_power(output = 'power', power_T1 = pwrT1[n]*1e3, axis = 'z', cp = 0.44, timespan = timespan)\n",
    "    if n > 0:\n",
    "        ver_plane[n].plot_virtual_turbine_field(ver_plane[n].ravfield.T, x = ver_plane[n].z, y = ver_plane[n].x, baseline_field=ver_plane[0].ravfield.T, \n",
    "                                                ax = ax[n-1], contour_levels = levels)\n",
    "        ax[n-1].set_title(f\"Total power gain for downstream turbine location, {legend_names[n]}\")"
   ]
  },
  {
   "cell_type": "code",
   "execution_count": null,
   "metadata": {},
   "outputs": [],
   "source": [
    "x = ver_plane[0].x\n",
    "y = 0\n",
    "z = ver_plane[0].z\n",
    "\n",
    "X = np.array(np.meshgrid(x, y, z)).reshape((3, np.size(x)*np.size(y)*np.size(z)))\n",
    "\n",
    "field = []\n",
    "for xi, yi, zi in zip(X[0][:], X[1][:], X[2][:]):\n",
    "    field.append(ver_plane[0].mean_vel_in_wake(D, [xi, yi, 0], zi, axis='z', verbose = False))\n"
   ]
  },
  {
   "cell_type": "code",
   "execution_count": null,
   "metadata": {},
   "outputs": [],
   "source": [
    "x = ver_plane[0].x\n",
    "y = 0\n",
    "z = ver_plane[0].z\n",
    "baseline_field = ver_plane[0].ravfield\n",
    "fig, ax = plt.subplots()\n",
    "for n in range(Ncases-1):\n",
    "    ax.plot(x, ver_plane[n+1].ravfield[13,:]/baseline_field[13,:])\n",
    "    ax.grid(True)\n",
    "    ax.legend(legend_names[1:])\n"
   ]
  },
  {
   "cell_type": "code",
   "execution_count": null,
   "metadata": {},
   "outputs": [],
   "source": [
    "pwrT1"
   ]
  },
  {
   "cell_type": "code",
   "execution_count": null,
   "metadata": {},
   "outputs": [],
   "source": []
  },
  {
   "cell_type": "code",
   "execution_count": null,
   "metadata": {},
   "outputs": [],
   "source": []
  }
 ],
 "metadata": {
  "kernelspec": {
   "display_name": "rosco-env",
   "language": "python",
   "name": "rosco-env"
  },
  "language_info": {
   "codemirror_mode": {
    "name": "ipython",
    "version": 3
   },
   "file_extension": ".py",
   "mimetype": "text/x-python",
   "name": "python",
   "nbconvert_exporter": "python",
   "pygments_lexer": "ipython3",
   "version": "3.8.18"
  }
 },
 "nbformat": 4,
 "nbformat_minor": 4
}
